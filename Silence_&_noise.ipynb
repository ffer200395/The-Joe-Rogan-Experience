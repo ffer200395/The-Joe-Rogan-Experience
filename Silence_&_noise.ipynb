{
  "nbformat": 4,
  "nbformat_minor": 0,
  "metadata": {
    "colab": {
      "name": "Silence & noise.ipynb",
      "provenance": [],
      "collapsed_sections": []
    },
    "kernelspec": {
      "display_name": "Python 3 (ipykernel)",
      "language": "python",
      "name": "python3"
    },
    "language_info": {
      "codemirror_mode": {
        "name": "ipython",
        "version": 3
      },
      "file_extension": ".py",
      "mimetype": "text/x-python",
      "name": "python",
      "nbconvert_exporter": "python",
      "pygments_lexer": "ipython3",
      "version": "3.8.11"
    }
  },
  "cells": [
    {
      "cell_type": "code",
      "metadata": {
        "id": "OMsE85JEFJWl"
      },
      "source": [
        "pip install noisereduce"
      ],
      "execution_count": null,
      "outputs": []
    },
    {
      "cell_type": "code",
      "metadata": {
        "id": "C_-d8vPGFOyv"
      },
      "source": [
        "from scipy.io.wavfile import read, write\n",
        "import numpy as np\n",
        "import matplotlib.pyplot as plt\n",
        "from collections import Counter\n",
        "import noisereduce as nr\n",
        "import IPython.display as ipd\n",
        "import pandas as pd"
      ],
      "execution_count": 32,
      "outputs": []
    },
    {
      "cell_type": "code",
      "metadata": {
        "colab": {
          "base_uri": "https://localhost:8080/"
        },
        "id": "PjzO6cxyCPmR",
        "outputId": "73cd033a-458c-4984-a892-c8c7349a13b4"
      },
      "source": [
        "from google.colab import drive\n",
        "# Ruta de los audios\n",
        "ruta = '/content/gdrive/MyDrive/Colab Notebooks/Rogan/Álex/audio/'\n",
        "# Montamos el drive\n",
        "drive.mount('/content/gdrive')"
      ],
      "execution_count": 33,
      "outputs": [
        {
          "output_type": "stream",
          "name": "stdout",
          "text": [
            "Drive already mounted at /content/gdrive; to attempt to forcibly remount, call drive.mount(\"/content/gdrive\", force_remount=True).\n"
          ]
        }
      ]
    },
    {
      "cell_type": "markdown",
      "metadata": {
        "id": "sH_-Ilb0FlXa"
      },
      "source": [
        "# 0.Read WAV file"
      ]
    },
    {
      "cell_type": "code",
      "metadata": {
        "colab": {
          "base_uri": "https://localhost:8080/"
        },
        "id": "75hXUCVcFbav",
        "outputId": "e9049bc1-869d-4c7f-a354-9b8978924bb9"
      },
      "source": [
        "path = 'data/podcasts_wav/'\n",
        "file_name = ruta+'jre877.wav'\n",
        "samplerate, signal = read(file_name)\n",
        "\n",
        "# Duration in seconds\n",
        "duration = len(signal)/samplerate\n",
        "print(f'Read a total of {len(signal)} values, {round(duration/60,2)} minutes of duration.')"
      ],
      "execution_count": 34,
      "outputs": [
        {
          "output_type": "stream",
          "name": "stdout",
          "text": [
            "Read a total of 176650640 values, 184.01 minutes of duration.\n"
          ]
        }
      ]
    },
    {
      "cell_type": "markdown",
      "metadata": {
        "id": "RAu0jq-JF_OE"
      },
      "source": [
        "# 1.Basic EDA of our audio signal"
      ]
    },
    {
      "cell_type": "code",
      "metadata": {
        "colab": {
          "base_uri": "https://localhost:8080/"
        },
        "id": "ieBkKJp9F8-d",
        "outputId": "a342e447-a277-468a-c0ba-43f94d7eda66"
      },
      "source": [
        "# Absolute values from signal\n",
        "s_abs =  np.abs(signal)\n",
        "\n",
        "# Basic statistics\n",
        "print(f'Máx. value: {s_abs.max()}')\n",
        "print(f'Min value: {s_abs.min()}')\n",
        "print(f'Average: {round(s_abs.mean(),2)}')\n",
        "print(f'Median: {int(np.median(s_abs))}')\n",
        "print(f'Percentage of zeros {round(np.count_nonzero(s_abs==0)/len(s_abs)*100,2)}%')"
      ],
      "execution_count": 35,
      "outputs": [
        {
          "output_type": "stream",
          "name": "stdout",
          "text": [
            "Máx. value: 32445\n",
            "Min value: 0\n",
            "Average: 2103.36\n",
            "Median: 1003\n",
            "Percentage of zeros 0.11%\n"
          ]
        }
      ]
    },
    {
      "cell_type": "code",
      "metadata": {
        "id": "-ZJsvGvhGEac"
      },
      "source": [
        "# Histogram\n",
        "plt.hist(s_abs, bins = np.arange(0,30000,1000),color='#0504aa',alpha=0.7, rwidth=0.85) \n",
        "plt.title(\"Histogram of signal values\") \n",
        "plt.show()"
      ],
      "execution_count": null,
      "outputs": []
    },
    {
      "cell_type": "code",
      "metadata": {
        "id": "IgTgV5zrGQmY"
      },
      "source": [
        "s_log = np.log10(s_abs)"
      ],
      "execution_count": null,
      "outputs": []
    },
    {
      "cell_type": "code",
      "metadata": {
        "colab": {
          "base_uri": "https://localhost:8080/",
          "height": 281
        },
        "id": "xhWipwnnGXzx",
        "outputId": "64dee584-ed22-4beb-9743-3c8e9f7a6051"
      },
      "source": [
        "plt.hist(s_log, bins = np.arange(0,4.5,0.05),color='#0504aa',alpha=0.7, rwidth=0.85) \n",
        "plt.title(\"Histogram of signal values (log scale)\") \n",
        "plt.show()"
      ],
      "execution_count": 37,
      "outputs": [
        {
          "output_type": "display_data",
          "data": {
            "image/png": "[encoded data removed]",
            "text/plain": [
              "<Figure size 432x288 with 1 Axes>"
            ]
          },
          "metadata": {
            "needs_background": "light"
          }
        }
      ]
    },
    {
      "cell_type": "code",
      "metadata": {
        "id": "zMsqvlyhGax-",
        "colab": {
          "base_uri": "https://localhost:8080/"
        },
        "outputId": "f1131655-6ff3-4f88-d470-b81148a9c0ca"
      },
      "source": [
        "# I loos like 2 diffeent distributions are present in our signal\n",
        "print(f'Inverse of log(2.7) base 10: {10**2.7}')"
      ],
      "execution_count": null,
      "outputs": [
        {
          "output_type": "stream",
          "name": "stdout",
          "text": [
            "Inverse of log(2.7) base 10: 501.18723362727246\n"
          ]
        }
      ]
    },
    {
      "cell_type": "code",
      "metadata": {
        "id": "l7KXKwBwCOhP"
      },
      "source": [
        "# 500 will be a threshold value\n",
        "threshold = 500"
      ],
      "execution_count": 38,
      "outputs": []
    },
    {
      "cell_type": "markdown",
      "metadata": {
        "id": "vlzLu7JeG0ut"
      },
      "source": [
        "# 2.Separate \"noise\" and \"silence\""
      ]
    },
    {
      "cell_type": "code",
      "metadata": {
        "id": "4qKE-BwnCOhS"
      },
      "source": [
        "# Positions where values are lower than threshold\n",
        "idx_lower = np.where(s_abs<threshold)\n",
        "\n",
        "# Replace lower values by zero\n",
        "signal_rep = signal.copy()\n",
        "np.put(signal_rep, idx_lower, np.zeros(len(signal_rep)))"
      ],
      "execution_count": 39,
      "outputs": []
    },
    {
      "cell_type": "code",
      "metadata": {
        "colab": {
          "base_uri": "https://localhost:8080/"
        },
        "id": "7ivDbp4HKcqR",
        "outputId": "776effcd-5a60-4adc-8e16-da46e1e8af38"
      },
      "source": [
        "print(f'Percentage of zeros in the original signal: {round(np.count_nonzero(signal==0)/len(signal)*100,2)}%')\n",
        "print(f'Percentage of zeros after replacement: {round(np.count_nonzero(signal_rep==0)/len(signal_rep)*100,2)}%')"
      ],
      "execution_count": null,
      "outputs": [
        {
          "output_type": "stream",
          "name": "stdout",
          "text": [
            "Percentage of zeros in the original signal: 0.11%\n",
            "Percentage of zeros after replacement: 38.92%\n"
          ]
        }
      ]
    },
    {
      "cell_type": "code",
      "metadata": {
        "id": "QpYxKaGzJkep"
      },
      "source": [
        "# Zero positions\n",
        "idx_zero = np.where(signal_rep==0)\n",
        "\n",
        "# Noise\n",
        "mask = np.ones(signal_rep.size, dtype=bool)\n",
        "mask[idx_zero] = False\n",
        "signal_noise = signal[mask]\n",
        "\n",
        "# Silence\n",
        "mask_s = np.zeros(signal_rep.size, dtype=bool)\n",
        "mask_s[idx_zero] = True\n",
        "signal_silence = signal[mask_s]"
      ],
      "execution_count": 40,
      "outputs": []
    },
    {
      "cell_type": "markdown",
      "metadata": {
        "id": "Scg5yhwMEWVv"
      },
      "source": [
        "Time to listen:"
      ]
    },
    {
      "cell_type": "code",
      "metadata": {
        "id": "g__rV3bFRhZQ"
      },
      "source": [
        "# 5 minutes from original signal\n",
        "minutes = 5*60*samplerate\n",
        "ipd.Audio(signal[:minutes], rate=samplerate) "
      ],
      "execution_count": null,
      "outputs": []
    },
    {
      "cell_type": "code",
      "metadata": {
        "id": "DCvYOUvqON3r"
      },
      "source": [
        "# Signal without silence\n",
        "ipd.Audio(signal_noise[:minutes], rate=samplerate) "
      ],
      "execution_count": null,
      "outputs": []
    },
    {
      "cell_type": "code",
      "metadata": {
        "id": "Ku1aiJbPKUV-"
      },
      "source": [
        "# Silence signal\n",
        "ipd.Audio(signal_silence[:minutes], rate=samplerate)"
      ],
      "execution_count": null,
      "outputs": []
    },
    {
      "cell_type": "code",
      "metadata": {
        "id": "XdqHEgLdje1f"
      },
      "source": [
        "# Signal after threshold and noise reduction\n",
        "signal_clean = nr.reduce_noise(y=signal_rep, sr=samplerate)\n",
        "ipd.Audio(signal_clean[:minutes], rate=samplerate) "
      ],
      "execution_count": null,
      "outputs": []
    },
    {
      "cell_type": "code",
      "metadata": {
        "id": "Wpsj8wZCKcJs"
      },
      "source": [
        "# To export audio as wav file\n",
        "#write(\"10min_silencio.wav\", samplerate, signal_clean[:minutes].astype(np.int16))"
      ],
      "execution_count": null,
      "outputs": []
    },
    {
      "cell_type": "markdown",
      "metadata": {
        "id": "oq0YHdpgkEEy"
      },
      "source": [
        "# 3.Silence"
      ]
    },
    {
      "cell_type": "code",
      "metadata": {
        "id": "JDk5BpXtJGu3"
      },
      "source": [
        "def consecutive(data, stepsize=1):\n",
        "  return np.split(data, np.where(np.diff(data) != stepsize)[0]+1)"
      ],
      "execution_count": 41,
      "outputs": []
    },
    {
      "cell_type": "code",
      "metadata": {
        "id": "qDy91z2aGiDk"
      },
      "source": [
        "# Find consecutive sequences of zero positions\n",
        "idx_consecutive = consecutive(idx_zero[0])\n",
        "\n",
        "# Length of zero position sets is divided b samplerate thus we get durations\n",
        "silence_duration = [(len(x)*(1/samplerate)) for x in idx_consecutive]\n",
        "\n",
        "# Count ocurrences of each duration and create a df\n",
        "silence_cont = Counter(silence_duration)\n",
        "df = pd.DataFrame(silence_cont.items(), columns =['Time(s)', 'Count'])"
      ],
      "execution_count": 42,
      "outputs": []
    },
    {
      "cell_type": "code",
      "metadata": {
        "colab": {
          "base_uri": "https://localhost:8080/",
          "height": 359
        },
        "id": "Zx2JWr9heb1C",
        "outputId": "32b8a100-2a07-4646-f351-5d654f335664"
      },
      "source": [
        "# More information is added\n",
        "df['From silence set(%)'] = round(df['Count']/len(silence_duration)*100,2)\n",
        "df['From signal(%)'] = round(df['Count']/len(signal)*100,2)\n",
        "df_sort_s = df.sort_values([\"Count\"], ascending=False)\n",
        "df_sort_s.reset_index(inplace=True,drop=True)\n",
        "df_sort_s.head(10)"
      ],
      "execution_count": 43,
      "outputs": [
        {
          "output_type": "execute_result",
          "data": {
            "text/html": [
              "<div>\n",
              "<style scoped>\n",
              "    .dataframe tbody tr th:only-of-type {\n",
              "        vertical-align: middle;\n",
              "    }\n",
              "\n",
              "    .dataframe tbody tr th {\n",
              "        vertical-align: top;\n",
              "    }\n",
              "\n",
              "    .dataframe thead th {\n",
              "        text-align: right;\n",
              "    }\n",
              "</style>\n",
              "<table border=\"1\" class=\"dataframe\">\n",
              "  <thead>\n",
              "    <tr style=\"text-align: right;\">\n",
              "      <th></th>\n",
              "      <th>Time(s)</th>\n",
              "      <th>Count</th>\n",
              "      <th>From silence set(%)</th>\n",
              "      <th>From signal(%)</th>\n",
              "    </tr>\n",
              "  </thead>\n",
              "  <tbody>\n",
              "    <tr>\n",
              "      <th>0</th>\n",
              "      <td>0.000063</td>\n",
              "      <td>4630673</td>\n",
              "      <td>54.42</td>\n",
              "      <td>2.62</td>\n",
              "    </tr>\n",
              "    <tr>\n",
              "      <th>1</th>\n",
              "      <td>0.000125</td>\n",
              "      <td>1498468</td>\n",
              "      <td>17.61</td>\n",
              "      <td>0.85</td>\n",
              "    </tr>\n",
              "    <tr>\n",
              "      <th>2</th>\n",
              "      <td>0.000188</td>\n",
              "      <td>705886</td>\n",
              "      <td>8.30</td>\n",
              "      <td>0.40</td>\n",
              "    </tr>\n",
              "    <tr>\n",
              "      <th>3</th>\n",
              "      <td>0.000250</td>\n",
              "      <td>414509</td>\n",
              "      <td>4.87</td>\n",
              "      <td>0.23</td>\n",
              "    </tr>\n",
              "    <tr>\n",
              "      <th>4</th>\n",
              "      <td>0.000313</td>\n",
              "      <td>265034</td>\n",
              "      <td>3.11</td>\n",
              "      <td>0.15</td>\n",
              "    </tr>\n",
              "    <tr>\n",
              "      <th>5</th>\n",
              "      <td>0.000375</td>\n",
              "      <td>180908</td>\n",
              "      <td>2.13</td>\n",
              "      <td>0.10</td>\n",
              "    </tr>\n",
              "    <tr>\n",
              "      <th>6</th>\n",
              "      <td>0.000438</td>\n",
              "      <td>127419</td>\n",
              "      <td>1.50</td>\n",
              "      <td>0.07</td>\n",
              "    </tr>\n",
              "    <tr>\n",
              "      <th>7</th>\n",
              "      <td>0.000500</td>\n",
              "      <td>96074</td>\n",
              "      <td>1.13</td>\n",
              "      <td>0.05</td>\n",
              "    </tr>\n",
              "    <tr>\n",
              "      <th>8</th>\n",
              "      <td>0.000563</td>\n",
              "      <td>73565</td>\n",
              "      <td>0.86</td>\n",
              "      <td>0.04</td>\n",
              "    </tr>\n",
              "    <tr>\n",
              "      <th>9</th>\n",
              "      <td>0.000625</td>\n",
              "      <td>59344</td>\n",
              "      <td>0.70</td>\n",
              "      <td>0.03</td>\n",
              "    </tr>\n",
              "  </tbody>\n",
              "</table>\n",
              "</div>"
            ],
            "text/plain": [
              "    Time(s)    Count  From silence set(%)  From signal(%)\n",
              "0  0.000063  4630673                54.42            2.62\n",
              "1  0.000125  1498468                17.61            0.85\n",
              "2  0.000188   705886                 8.30            0.40\n",
              "3  0.000250   414509                 4.87            0.23\n",
              "4  0.000313   265034                 3.11            0.15\n",
              "5  0.000375   180908                 2.13            0.10\n",
              "6  0.000438   127419                 1.50            0.07\n",
              "7  0.000500    96074                 1.13            0.05\n",
              "8  0.000563    73565                 0.86            0.04\n",
              "9  0.000625    59344                 0.70            0.03"
            ]
          },
          "metadata": {},
          "execution_count": 43
        }
      ]
    },
    {
      "cell_type": "code",
      "metadata": {
        "id": "6m3PGrh4LVuo"
      },
      "source": [
        "# Export results\n",
        "df_sort_s.to_csv('df_silences.csv')"
      ],
      "execution_count": null,
      "outputs": []
    },
    {
      "cell_type": "code",
      "metadata": {
        "colab": {
          "base_uri": "https://localhost:8080/",
          "height": 281
        },
        "id": "2bGLbU5ikU3-",
        "outputId": "88941909-e533-4bdb-fcaa-4b8d8abdfb30"
      },
      "source": [
        "plt.hist(silence_duration, bins = np.arange(0.05,2,0.0625),color='#0504aa',alpha=0.7, rwidth=0.5) \n",
        "plt.title(\"Histogram of silences (seconds)\") \n",
        "plt.show()"
      ],
      "execution_count": 44,
      "outputs": [
        {
          "output_type": "display_data",
          "data": {
            "image/png": "[encoded data removed]",
            "text/plain": [
              "<Figure size 432x288 with 1 Axes>"
            ]
          },
          "metadata": {
            "needs_background": "light"
          }
        }
      ]
    },
    {
      "cell_type": "markdown",
      "metadata": {
        "id": "6CCwZgw_gkeN"
      },
      "source": [
        "#4.Noise"
      ]
    },
    {
      "cell_type": "code",
      "metadata": {
        "id": "SXeFIFg2z-Kr"
      },
      "source": [
        "# Repeat the process for noises\n",
        "idx_c_noise = consecutive(np.where(signal_rep!=0)[0])\n",
        "noise_duration = [(len(x)*(1/samplerate)) for x in idx_c_noise]\n",
        "noise_cont = Counter(noise_duration)\n",
        "df_noise = pd.DataFrame(noise_cont.items(), columns =['Time(s)', 'Count'])"
      ],
      "execution_count": 45,
      "outputs": []
    },
    {
      "cell_type": "code",
      "metadata": {
        "colab": {
          "base_uri": "https://localhost:8080/",
          "height": 359
        },
        "id": "abg_c4ljLg_s",
        "outputId": "5318b4b3-9b5e-4132-f273-2ca19054941f"
      },
      "source": [
        "# More information is added\n",
        "df_noise['From noise set(%)'] = round(df_noise['Count']/len(noise_duration)*100,2)\n",
        "df_noise['From signal(%)'] = round(df_noise['Count']/len(signal)*100,2)\n",
        "df_sort_n = df_noise.sort_values([\"Count\"], ascending=False)\n",
        "df_sort_n.reset_index(inplace=True,drop=True)\n",
        "df_sort_n.head(10)"
      ],
      "execution_count": 46,
      "outputs": [
        {
          "output_type": "execute_result",
          "data": {
            "text/html": [
              "<div>\n",
              "<style scoped>\n",
              "    .dataframe tbody tr th:only-of-type {\n",
              "        vertical-align: middle;\n",
              "    }\n",
              "\n",
              "    .dataframe tbody tr th {\n",
              "        vertical-align: top;\n",
              "    }\n",
              "\n",
              "    .dataframe thead th {\n",
              "        text-align: right;\n",
              "    }\n",
              "</style>\n",
              "<table border=\"1\" class=\"dataframe\">\n",
              "  <thead>\n",
              "    <tr style=\"text-align: right;\">\n",
              "      <th></th>\n",
              "      <th>Time(s)</th>\n",
              "      <th>Count</th>\n",
              "      <th>From noise set(%)</th>\n",
              "      <th>From signal(%)</th>\n",
              "    </tr>\n",
              "  </thead>\n",
              "  <tbody>\n",
              "    <tr>\n",
              "      <th>0</th>\n",
              "      <td>0.000063</td>\n",
              "      <td>1624749</td>\n",
              "      <td>19.09</td>\n",
              "      <td>0.92</td>\n",
              "    </tr>\n",
              "    <tr>\n",
              "      <th>1</th>\n",
              "      <td>0.000125</td>\n",
              "      <td>1072408</td>\n",
              "      <td>12.60</td>\n",
              "      <td>0.61</td>\n",
              "    </tr>\n",
              "    <tr>\n",
              "      <th>2</th>\n",
              "      <td>0.000188</td>\n",
              "      <td>641240</td>\n",
              "      <td>7.54</td>\n",
              "      <td>0.36</td>\n",
              "    </tr>\n",
              "    <tr>\n",
              "      <th>3</th>\n",
              "      <td>0.000250</td>\n",
              "      <td>471542</td>\n",
              "      <td>5.54</td>\n",
              "      <td>0.27</td>\n",
              "    </tr>\n",
              "    <tr>\n",
              "      <th>4</th>\n",
              "      <td>0.000313</td>\n",
              "      <td>346687</td>\n",
              "      <td>4.07</td>\n",
              "      <td>0.20</td>\n",
              "    </tr>\n",
              "    <tr>\n",
              "      <th>5</th>\n",
              "      <td>0.000375</td>\n",
              "      <td>282803</td>\n",
              "      <td>3.32</td>\n",
              "      <td>0.16</td>\n",
              "    </tr>\n",
              "    <tr>\n",
              "      <th>6</th>\n",
              "      <td>0.000438</td>\n",
              "      <td>233951</td>\n",
              "      <td>2.75</td>\n",
              "      <td>0.13</td>\n",
              "    </tr>\n",
              "    <tr>\n",
              "      <th>7</th>\n",
              "      <td>0.000500</td>\n",
              "      <td>206945</td>\n",
              "      <td>2.43</td>\n",
              "      <td>0.12</td>\n",
              "    </tr>\n",
              "    <tr>\n",
              "      <th>8</th>\n",
              "      <td>0.000563</td>\n",
              "      <td>178498</td>\n",
              "      <td>2.10</td>\n",
              "      <td>0.10</td>\n",
              "    </tr>\n",
              "    <tr>\n",
              "      <th>9</th>\n",
              "      <td>0.000625</td>\n",
              "      <td>157327</td>\n",
              "      <td>1.85</td>\n",
              "      <td>0.09</td>\n",
              "    </tr>\n",
              "  </tbody>\n",
              "</table>\n",
              "</div>"
            ],
            "text/plain": [
              "    Time(s)    Count  From noise set(%)  From signal(%)\n",
              "0  0.000063  1624749              19.09            0.92\n",
              "1  0.000125  1072408              12.60            0.61\n",
              "2  0.000188   641240               7.54            0.36\n",
              "3  0.000250   471542               5.54            0.27\n",
              "4  0.000313   346687               4.07            0.20\n",
              "5  0.000375   282803               3.32            0.16\n",
              "6  0.000438   233951               2.75            0.13\n",
              "7  0.000500   206945               2.43            0.12\n",
              "8  0.000563   178498               2.10            0.10\n",
              "9  0.000625   157327               1.85            0.09"
            ]
          },
          "metadata": {},
          "execution_count": 46
        }
      ]
    },
    {
      "cell_type": "code",
      "metadata": {
        "colab": {
          "base_uri": "https://localhost:8080/",
          "height": 204
        },
        "id": "oi0h-Nygn5EI",
        "outputId": "a86699b0-056f-4464-9de3-bf9148d71a93"
      },
      "source": [
        "df_sort_n.tail(5)"
      ],
      "execution_count": null,
      "outputs": [
        {
          "output_type": "execute_result",
          "data": {
            "text/html": [
              "<div>\n",
              "<style scoped>\n",
              "    .dataframe tbody tr th:only-of-type {\n",
              "        vertical-align: middle;\n",
              "    }\n",
              "\n",
              "    .dataframe tbody tr th {\n",
              "        vertical-align: top;\n",
              "    }\n",
              "\n",
              "    .dataframe thead th {\n",
              "        text-align: right;\n",
              "    }\n",
              "</style>\n",
              "<table border=\"1\" class=\"dataframe\">\n",
              "  <thead>\n",
              "    <tr style=\"text-align: right;\">\n",
              "      <th></th>\n",
              "      <th>Time(s)</th>\n",
              "      <th>Count</th>\n",
              "      <th>From noise set(%)</th>\n",
              "      <th>From signal(%)</th>\n",
              "    </tr>\n",
              "  </thead>\n",
              "  <tbody>\n",
              "    <tr>\n",
              "      <th>296</th>\n",
              "      <td>0.016000</td>\n",
              "      <td>1</td>\n",
              "      <td>0.0</td>\n",
              "      <td>0.0</td>\n",
              "    </tr>\n",
              "    <tr>\n",
              "      <th>297</th>\n",
              "      <td>0.018687</td>\n",
              "      <td>1</td>\n",
              "      <td>0.0</td>\n",
              "      <td>0.0</td>\n",
              "    </tr>\n",
              "    <tr>\n",
              "      <th>298</th>\n",
              "      <td>0.015562</td>\n",
              "      <td>1</td>\n",
              "      <td>0.0</td>\n",
              "      <td>0.0</td>\n",
              "    </tr>\n",
              "    <tr>\n",
              "      <th>299</th>\n",
              "      <td>0.015750</td>\n",
              "      <td>1</td>\n",
              "      <td>0.0</td>\n",
              "      <td>0.0</td>\n",
              "    </tr>\n",
              "    <tr>\n",
              "      <th>300</th>\n",
              "      <td>0.020188</td>\n",
              "      <td>1</td>\n",
              "      <td>0.0</td>\n",
              "      <td>0.0</td>\n",
              "    </tr>\n",
              "  </tbody>\n",
              "</table>\n",
              "</div>"
            ],
            "text/plain": [
              "      Time(s)  Count  From noise set(%)  From signal(%)\n",
              "296  0.016000      1                0.0             0.0\n",
              "297  0.018687      1                0.0             0.0\n",
              "298  0.015562      1                0.0             0.0\n",
              "299  0.015750      1                0.0             0.0\n",
              "300  0.020188      1                0.0             0.0"
            ]
          },
          "metadata": {},
          "execution_count": 17
        }
      ]
    },
    {
      "cell_type": "code",
      "metadata": {
        "colab": {
          "base_uri": "https://localhost:8080/",
          "height": 281
        },
        "id": "fQGiveh1MEsZ",
        "outputId": "aef8b1b4-e6b1-41b7-cdfd-59d380b1041e"
      },
      "source": [
        "plt.hist(noise_duration, bins = np.arange(0,0.006,0.0001),color='#0504aa',alpha=0.7, rwidth=0.5) \n",
        "plt.title(\"Histogram of noises (seconds)\") \n",
        "plt.show()"
      ],
      "execution_count": null,
      "outputs": [
        {
          "output_type": "display_data",
          "data": {
            "image/png": "[encoded data removed]",
            "text/plain": [
              "<Figure size 432x288 with 1 Axes>"
            ]
          },
          "metadata": {
            "needs_background": "light"
          }
        }
      ]
    },
    {
      "cell_type": "code",
      "metadata": {
        "id": "l4OV0_jWubEB"
      },
      "source": [
        "df_sort_n.to_csv('df_noises.csv')"
      ],
      "execution_count": null,
      "outputs": []
    }
  ]
}