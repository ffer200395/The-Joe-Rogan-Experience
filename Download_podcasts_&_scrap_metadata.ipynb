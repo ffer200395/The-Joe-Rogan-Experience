{
  "nbformat": 4,
  "nbformat_minor": 5,
  "metadata": {
    "kernelspec": {
      "display_name": "Python 3 (ipykernel)",
      "language": "python",
      "name": "python3"
    },
    "language_info": {
      "codemirror_mode": {
        "name": "ipython",
        "version": 3
      },
      "file_extension": ".py",
      "mimetype": "text/x-python",
      "name": "python",
      "nbconvert_exporter": "python",
      "pygments_lexer": "ipython3",
      "version": "3.8.11"
    },
    "colab": {
      "name": "Download podcasts & scrap metadata.ipynb",
      "provenance": [],
      "include_colab_link": true
    }
  },
  "cells": [
    {
      "cell_type": "markdown",
      "metadata": {
        "id": "view-in-github",
        "colab_type": "text"
      },
      "source": [
        "<a href=\"https://colab.research.google.com/github/ffer200395/The-Joe-Rogan-Experience/blob/main/Download_podcasts_%26_scrap_metadata.ipynb\" target=\"_parent\"><img src=\"https://colab.research.google.com/assets/colab-badge.svg\" alt=\"Open In Colab\"/></a>"
      ]
    },
    {
      "cell_type": "code",
      "metadata": {
        "id": "40307a0f-feb9-45a2-966a-278ba6f0fc70"
      },
      "source": [
        "import pandas as pd\n",
        "\n",
        "import requests\n",
        "import urllib.request \n",
        "from bs4 import BeautifulSoup\n",
        "\n",
        "import re\n",
        "import pickle\n",
        "from tqdm import tqdm\n",
        "\n",
        "import os\n",
        "import shlex\n",
        "import subprocess"
      ],
      "id": "40307a0f-feb9-45a2-966a-278ba6f0fc70",
      "execution_count": null,
      "outputs": []
    },
    {
      "cell_type": "markdown",
      "metadata": {
        "id": "b48718ea-a79a-4d5b-aabd-30bd395591c0"
      },
      "source": [
        "# Download The Joe Rogan Experience podcasts:\n",
        "-From https://archive.org/, a non-profit library of millions of free books, movies, software, music, websites, and more."
      ],
      "id": "b48718ea-a79a-4d5b-aabd-30bd395591c0"
    },
    {
      "cell_type": "code",
      "metadata": {
        "id": "26a4a218-f0d1-4980-81ab-1692aa312f17"
      },
      "source": [
        "def download_podcasts(path, start=1, end=1550):\n",
        "    \"\"\"Downloads all jre podcasts between start and end episodes\n",
        "    Parameters\n",
        "    ----------\n",
        "    path : str\n",
        "        Path where we want to store downloaded podcasts\n",
        "    start : int \n",
        "        First episode to be downloaded\n",
        "    end : int\n",
        "        Last episode to be downloaded\n",
        "    Returns\n",
        "    -------\n",
        "    None\n",
        "        All podcasts are downloaded in path\n",
        "    \"\"\"\n",
        "    for i in range(start,end+1):\n",
        "        # Make a request for a specific podcast\n",
        "        req = requests.get(f'https://archive.org/details/joe-rogan-podcast-audio-{i}')\n",
        "        if req.status_code==200:\n",
        "            print(i)\n",
        "            # Parse hatml and find link to download\n",
        "            soup = BeautifulSoup(req.content, 'html.parser')\n",
        "            link=soup.find_all(attrs={'href': re.compile(\"https://archive.org/download\")})[0].get('href')\n",
        "            try:\n",
        "                # If found retreive mp3 file\n",
        "                urllib.request.urlretrieve(link, f'{path}jre{i}.mp3')\n",
        "            except Exception as e:\n",
        "                print(i,e)\n",
        "        else:\n",
        "            print(req.status_code)"
      ],
      "id": "26a4a218-f0d1-4980-81ab-1692aa312f17",
      "execution_count": null,
      "outputs": []
    },
    {
      "cell_type": "code",
      "metadata": {
        "id": "43a58e6d-e3bf-477a-90af-61318eb5ca20"
      },
      "source": [
        "# To download podcasts we call the above function\n",
        "download_podcasts(path='data/podcasts/', start=1, end=1550)"
      ],
      "id": "43a58e6d-e3bf-477a-90af-61318eb5ca20",
      "execution_count": null,
      "outputs": []
    },
    {
      "cell_type": "markdown",
      "metadata": {
        "id": "3673b19d-8cc4-40bf-970c-a701b7973d6d"
      },
      "source": [
        "# Scrap podcasts' metadata:\n",
        "-From https://www.jrepodcast.com/ and https://jrelibrary.com/episode-list/"
      ],
      "id": "3673b19d-8cc4-40bf-970c-a701b7973d6d"
    },
    {
      "cell_type": "code",
      "metadata": {
        "id": "ce0ec299-cfae-4c34-98ae-084acdc47483",
        "outputId": "342acac0-05c3-4483-d500-4062444bd290"
      },
      "source": [
        "# DataFrame of categories and links for each one\n",
        "df_cat = pd.read_csv('data/jre_podcast_categories.csv',sep=';')\n",
        "df_cat.head(5)"
      ],
      "id": "ce0ec299-cfae-4c34-98ae-084acdc47483",
      "execution_count": null,
      "outputs": [
        {
          "data": {
            "text/html": [
              "<div>\n",
              "<style scoped>\n",
              "    .dataframe tbody tr th:only-of-type {\n",
              "        vertical-align: middle;\n",
              "    }\n",
              "\n",
              "    .dataframe tbody tr th {\n",
              "        vertical-align: top;\n",
              "    }\n",
              "\n",
              "    .dataframe thead th {\n",
              "        text-align: right;\n",
              "    }\n",
              "</style>\n",
              "<table border=\"1\" class=\"dataframe\">\n",
              "  <thead>\n",
              "    <tr style=\"text-align: right;\">\n",
              "      <th></th>\n",
              "      <th>link</th>\n",
              "      <th>category</th>\n",
              "    </tr>\n",
              "  </thead>\n",
              "  <tbody>\n",
              "    <tr>\n",
              "      <th>0</th>\n",
              "      <td>https://www.jrepodcast.com/episodes/activists/</td>\n",
              "      <td>Activists</td>\n",
              "    </tr>\n",
              "    <tr>\n",
              "      <th>1</th>\n",
              "      <td>https://www.jrepodcast.com/episodes/actors/</td>\n",
              "      <td>Actors</td>\n",
              "    </tr>\n",
              "    <tr>\n",
              "      <th>2</th>\n",
              "      <td>https://www.jrepodcast.com/episodes/artists/</td>\n",
              "      <td>Artists</td>\n",
              "    </tr>\n",
              "    <tr>\n",
              "      <th>3</th>\n",
              "      <td>https://www.jrepodcast.com/episodes/athletes-f...</td>\n",
              "      <td>Athletes, Fighters, Martial Arts</td>\n",
              "    </tr>\n",
              "    <tr>\n",
              "      <th>4</th>\n",
              "      <td>https://www.jrepodcast.com/episodes/authors/</td>\n",
              "      <td>Authors</td>\n",
              "    </tr>\n",
              "  </tbody>\n",
              "</table>\n",
              "</div>"
            ],
            "text/plain": [
              "                                                link  \\\n",
              "0     https://www.jrepodcast.com/episodes/activists/   \n",
              "1        https://www.jrepodcast.com/episodes/actors/   \n",
              "2       https://www.jrepodcast.com/episodes/artists/   \n",
              "3  https://www.jrepodcast.com/episodes/athletes-f...   \n",
              "4       https://www.jrepodcast.com/episodes/authors/   \n",
              "\n",
              "                           category  \n",
              "0                         Activists  \n",
              "1                            Actors  \n",
              "2                           Artists  \n",
              "3  Athletes, Fighters, Martial Arts  \n",
              "4                           Authors  "
            ]
          },
          "execution_count": 12,
          "metadata": {},
          "output_type": "execute_result"
        }
      ]
    },
    {
      "cell_type": "code",
      "metadata": {
        "id": "ee3f40c5-3811-49c7-82ee-986438f6ff85"
      },
      "source": [
        "def get_number_of_pages_cat(df):\n",
        "    \"\"\"Find number of pages for each category\n",
        "    Parameters\n",
        "    ----------\n",
        "    df : DataFrame\n",
        "        Contains a column for links and a column for categories\n",
        "    Returns\n",
        "    -------\n",
        "    DataFrame\n",
        "        An extra column is added for number of pages found\n",
        "    \"\"\"\n",
        "    links, categories, n_pages = df['link'], df['category'], []\n",
        "    for i,link in tqdm(enumerate(links)):\n",
        "        # Access to category link\n",
        "        req = requests.get(link)\n",
        "        if req.status_code==200:\n",
        "            # Find number of pages available\n",
        "            pages = BeautifulSoup(req.content,'html.parser').find_all(\"a\", {\"class\":\"page-numbers\"})\n",
        "            if len(pages)!=0:\n",
        "                n_pages.append(int(pages[-2].text)+1)\n",
        "            else:\n",
        "                n_pages.append(0)\n",
        "        else:\n",
        "            print(req.status_code)\n",
        "    # Add new column\n",
        "    df['n_pages'] = n_pages\n",
        "    return df"
      ],
      "id": "ee3f40c5-3811-49c7-82ee-986438f6ff85",
      "execution_count": null,
      "outputs": []
    },
    {
      "cell_type": "code",
      "metadata": {
        "id": "7a88bc66-7246-476f-841f-532d86a8029d",
        "outputId": "adc80457-402b-4859-a82d-f85d27443428"
      },
      "source": [
        "df_pages = get_number_of_pages_cat(df_cat)\n",
        "df_pages.head(5)"
      ],
      "id": "7a88bc66-7246-476f-841f-532d86a8029d",
      "execution_count": null,
      "outputs": [
        {
          "name": "stderr",
          "output_type": "stream",
          "text": [
            "22it [00:17,  1.27it/s]\n"
          ]
        },
        {
          "data": {
            "text/html": [
              "<div>\n",
              "<style scoped>\n",
              "    .dataframe tbody tr th:only-of-type {\n",
              "        vertical-align: middle;\n",
              "    }\n",
              "\n",
              "    .dataframe tbody tr th {\n",
              "        vertical-align: top;\n",
              "    }\n",
              "\n",
              "    .dataframe thead th {\n",
              "        text-align: right;\n",
              "    }\n",
              "</style>\n",
              "<table border=\"1\" class=\"dataframe\">\n",
              "  <thead>\n",
              "    <tr style=\"text-align: right;\">\n",
              "      <th></th>\n",
              "      <th>link</th>\n",
              "      <th>category</th>\n",
              "      <th>n_pages</th>\n",
              "    </tr>\n",
              "  </thead>\n",
              "  <tbody>\n",
              "    <tr>\n",
              "      <th>0</th>\n",
              "      <td>https://www.jrepodcast.com/episodes/activists/</td>\n",
              "      <td>Activists</td>\n",
              "      <td>5</td>\n",
              "    </tr>\n",
              "    <tr>\n",
              "      <th>1</th>\n",
              "      <td>https://www.jrepodcast.com/episodes/actors/</td>\n",
              "      <td>Actors</td>\n",
              "      <td>40</td>\n",
              "    </tr>\n",
              "    <tr>\n",
              "      <th>2</th>\n",
              "      <td>https://www.jrepodcast.com/episodes/artists/</td>\n",
              "      <td>Artists</td>\n",
              "      <td>0</td>\n",
              "    </tr>\n",
              "    <tr>\n",
              "      <th>3</th>\n",
              "      <td>https://www.jrepodcast.com/episodes/athletes-f...</td>\n",
              "      <td>Athletes, Fighters, Martial Arts</td>\n",
              "      <td>35</td>\n",
              "    </tr>\n",
              "    <tr>\n",
              "      <th>4</th>\n",
              "      <td>https://www.jrepodcast.com/episodes/authors/</td>\n",
              "      <td>Authors</td>\n",
              "      <td>23</td>\n",
              "    </tr>\n",
              "  </tbody>\n",
              "</table>\n",
              "</div>"
            ],
            "text/plain": [
              "                                                link  \\\n",
              "0     https://www.jrepodcast.com/episodes/activists/   \n",
              "1        https://www.jrepodcast.com/episodes/actors/   \n",
              "2       https://www.jrepodcast.com/episodes/artists/   \n",
              "3  https://www.jrepodcast.com/episodes/athletes-f...   \n",
              "4       https://www.jrepodcast.com/episodes/authors/   \n",
              "\n",
              "                           category  n_pages  \n",
              "0                         Activists        5  \n",
              "1                            Actors       40  \n",
              "2                           Artists        0  \n",
              "3  Athletes, Fighters, Martial Arts       35  \n",
              "4                           Authors       23  "
            ]
          },
          "execution_count": 25,
          "metadata": {},
          "output_type": "execute_result"
        }
      ]
    },
    {
      "cell_type": "code",
      "metadata": {
        "id": "af8e607d-5b4b-4cc7-8588-8f9c42d50a66"
      },
      "source": [
        "def get_metadata(link):\n",
        "    \"\"\"Given a link it captures all relevant metadata for podcasts\n",
        "    Parameters\n",
        "    ----------\n",
        "    link : str\n",
        "        Url from https://www.jrepodcast.com/\n",
        "    Returns\n",
        "    -------\n",
        "    List\n",
        "        A list of lists, each list correspond to a feature\n",
        "    \"\"\"\n",
        "    req = requests.get(link)\n",
        "    if req.status_code==200:\n",
        "        soup = BeautifulSoup(req.content,'html.parser')\n",
        "        ls_name = list(map(lambda x:x.text, soup.find_all(\"span\", {\"itemprop\":\"name\"})))\n",
        "        ls_date = list(map(lambda x:x.text, soup.find_all(\"time\")))\n",
        "        ls_view = list(map(lambda x:x.text, soup.find_all(\"span\", {\"class\":\"post-meta-span post-meta-span-views\"})))\n",
        "        ls_like = list(map(lambda x:x.text, soup.find_all(\"span\", {\"class\":\"post-meta-span post-meta-span-likes\"})))\n",
        "        ls_dislike = list(map(lambda x:x.text, soup.find_all(\"span\", {\"class\":\"post-meta-span post-meta-span-dislikes\"})))\n",
        "        ls_ratio = list(map(lambda x:x.text, soup.find_all(\"span\", {\"class\":\"post-meta-span post-meta-span-ratio\"})))\n",
        "    else:\n",
        "        print(req.status_code)\n",
        "    return [ls_name, ls_date, ls_view, ls_like, ls_dislike, ls_ratio]\n",
        "\n",
        "def get_metadata_by_cat(df):\n",
        "    \"\"\"For every category obtains all metadata\n",
        "    Parameters\n",
        "    ----------\n",
        "    df : DataFrame\n",
        "        Columns for links, categories and number of pages for each category\n",
        "    Returns\n",
        "    -------\n",
        "    DataFrame\n",
        "        \n",
        "    \"\"\"\n",
        "    links, categories, n_pages = df['link'], df['category'], df['n_pages']\n",
        "    # Placeholder for metadata\n",
        "    data, ls_cats = [[] for i in range(6)], []\n",
        "    for i,url_base in tqdm(enumerate(links)):\n",
        "        pages = n_pages[i]\n",
        "        # Just one page so url_base is used\n",
        "        if pages == 0:\n",
        "            aux = get_metadata(url_base)\n",
        "            data = [data[j]+aux[j] for j in range(6)]\n",
        "            ls_cats+=[categories[i]]*len(aux[0])\n",
        "        else:\n",
        "            for page in range(1,pages):\n",
        "                url = url_base+f'page/{page}/'\n",
        "                aux = get_metadata(url)\n",
        "                data = [data[j]+aux[j] for j in range(6)]\n",
        "                ls_cats+=[categories[i]]*len(aux[0])\n",
        "    df_res = pd.DataFrame({'Name':data[0],'Date':data[1],'Views':data[2],'Likes':data[3],'Dislikes':data[4],'Ratio':data[5],'Category':ls_cats})\n",
        "    return df_res"
      ],
      "id": "af8e607d-5b4b-4cc7-8588-8f9c42d50a66",
      "execution_count": null,
      "outputs": []
    },
    {
      "cell_type": "code",
      "metadata": {
        "id": "de758ab5-d5c9-463d-a2dc-669e6c2c23a3",
        "outputId": "f5015bd3-879c-4e8b-d8ac-8017669f9ee5"
      },
      "source": [
        "raw_metadata = get_metadata_by_cat(df_pages)\n",
        "raw_metadata.head(5)"
      ],
      "id": "de758ab5-d5c9-463d-a2dc-669e6c2c23a3",
      "execution_count": null,
      "outputs": [
        {
          "data": {
            "text/html": [
              "<div>\n",
              "<style scoped>\n",
              "    .dataframe tbody tr th:only-of-type {\n",
              "        vertical-align: middle;\n",
              "    }\n",
              "\n",
              "    .dataframe tbody tr th {\n",
              "        vertical-align: top;\n",
              "    }\n",
              "\n",
              "    .dataframe thead th {\n",
              "        text-align: right;\n",
              "    }\n",
              "</style>\n",
              "<table border=\"1\" class=\"dataframe\">\n",
              "  <thead>\n",
              "    <tr style=\"text-align: right;\">\n",
              "      <th></th>\n",
              "      <th>Name</th>\n",
              "      <th>Date</th>\n",
              "      <th>Views</th>\n",
              "      <th>Likes</th>\n",
              "      <th>Dislikes</th>\n",
              "      <th>Ratio</th>\n",
              "      <th>Category</th>\n",
              "    </tr>\n",
              "  </thead>\n",
              "  <tbody>\n",
              "    <tr>\n",
              "      <th>0</th>\n",
              "      <td>Joe Rogan Experience #1512 – Ben Shapiro</td>\n",
              "      <td>July 22, 2020</td>\n",
              "      <td>8,603,088 views</td>\n",
              "      <td>206,159 likes</td>\n",
              "      <td>21,102 dislikes</td>\n",
              "      <td>9.77 ratio</td>\n",
              "      <td>Activists</td>\n",
              "    </tr>\n",
              "    <tr>\n",
              "      <th>1</th>\n",
              "      <td>Joe Rogan Experience #1427 – Melissa Chen</td>\n",
              "      <td>February 14, 2020</td>\n",
              "      <td>3,558,623 views</td>\n",
              "      <td>51,294 likes</td>\n",
              "      <td>3,679 dislikes</td>\n",
              "      <td>13.94 ratio</td>\n",
              "      <td>Activists</td>\n",
              "    </tr>\n",
              "    <tr>\n",
              "      <th>2</th>\n",
              "      <td>Joe Rogan Experience #1419 – Daryl Davis</td>\n",
              "      <td>January 30, 2020</td>\n",
              "      <td>3,623,181 views</td>\n",
              "      <td>107,595 likes</td>\n",
              "      <td>3,045 dislikes</td>\n",
              "      <td>35.33 ratio</td>\n",
              "      <td>Activists</td>\n",
              "    </tr>\n",
              "    <tr>\n",
              "      <th>3</th>\n",
              "      <td>Joe Rogan Experience #1402 – Boyan Slat</td>\n",
              "      <td>December 17, 2019</td>\n",
              "      <td>1,325,399 views</td>\n",
              "      <td>21,551 likes</td>\n",
              "      <td>841 dislikes</td>\n",
              "      <td>25.63 ratio</td>\n",
              "      <td>Activists</td>\n",
              "    </tr>\n",
              "    <tr>\n",
              "      <th>4</th>\n",
              "      <td>Joe Rogan Experience #1373 – Kyle Kulinski</td>\n",
              "      <td>October 30, 2019</td>\n",
              "      <td>2,891,481 views</td>\n",
              "      <td>50,991 likes</td>\n",
              "      <td>6,986 dislikes</td>\n",
              "      <td>7.30 ratio</td>\n",
              "      <td>Activists</td>\n",
              "    </tr>\n",
              "  </tbody>\n",
              "</table>\n",
              "</div>"
            ],
            "text/plain": [
              "                                         Name               Date  \\\n",
              "0    Joe Rogan Experience #1512 – Ben Shapiro      July 22, 2020   \n",
              "1   Joe Rogan Experience #1427 – Melissa Chen  February 14, 2020   \n",
              "2    Joe Rogan Experience #1419 – Daryl Davis   January 30, 2020   \n",
              "3     Joe Rogan Experience #1402 – Boyan Slat  December 17, 2019   \n",
              "4  Joe Rogan Experience #1373 – Kyle Kulinski   October 30, 2019   \n",
              "\n",
              "             Views          Likes         Dislikes        Ratio   Category  \n",
              "0  8,603,088 views  206,159 likes  21,102 dislikes   9.77 ratio  Activists  \n",
              "1  3,558,623 views   51,294 likes   3,679 dislikes  13.94 ratio  Activists  \n",
              "2  3,623,181 views  107,595 likes   3,045 dislikes  35.33 ratio  Activists  \n",
              "3  1,325,399 views   21,551 likes     841 dislikes  25.63 ratio  Activists  \n",
              "4  2,891,481 views   50,991 likes   6,986 dislikes   7.30 ratio  Activists  "
            ]
          },
          "execution_count": 3,
          "metadata": {},
          "output_type": "execute_result"
        }
      ]
    },
    {
      "cell_type": "code",
      "metadata": {
        "id": "c5c48d6c-a328-4689-8f77-11c606e6fcd5",
        "outputId": "d12ad126-a45d-4f21-9e0d-17fb9732b7e6"
      },
      "source": [
        "# One podcast belongs to several caegories\n",
        "print(len(raw_metadata['Name']))\n",
        "print(len(set(raw_metadata['Name'])))"
      ],
      "id": "c5c48d6c-a328-4689-8f77-11c606e6fcd5",
      "execution_count": null,
      "outputs": [
        {
          "name": "stdout",
          "output_type": "stream",
          "text": [
            "5143\n",
            "2517\n"
          ]
        }
      ]
    },
    {
      "cell_type": "code",
      "metadata": {
        "id": "04a97776-420e-4116-b87a-d5d878fd4467"
      },
      "source": [
        "# For each episode e get all categories it belongs to and store them in a dictionary\n",
        "d_categories = dict()\n",
        "for name in set(raw_metadata['Name']):\n",
        "    d_categories[name] = list(raw_metadata[raw_metadata['Name']==name]['Category'].values)"
      ],
      "id": "04a97776-420e-4116-b87a-d5d878fd4467",
      "execution_count": null,
      "outputs": []
    },
    {
      "cell_type": "code",
      "metadata": {
        "id": "a4d3ce18-a59e-4951-aacf-b9431a088f9c",
        "outputId": "63f100c9-8303-4356-c3ba-209de32faa66"
      },
      "source": [
        "# We then create a new df in which each row corresponds to an unique episode\n",
        "df_meta = pd.DataFrame(columns = raw_metadata.columns)\n",
        "for index, row in tqdm(raw_metadata.iterrows()):\n",
        "    df_meta = df_meta.append({'Name':row['Name'],'Category':str(d_categories[row['Name']]),'Date':row['Date'],'Views':row['Views'],'Likes':row['Likes'],'Dislikes':row['Dislikes'],'Ratio':row['Ratio']}, ignore_index=True)\n",
        "df_meta = df_meta.drop_duplicates()\n",
        "df_meta.head(3)"
      ],
      "id": "a4d3ce18-a59e-4951-aacf-b9431a088f9c",
      "execution_count": null,
      "outputs": [
        {
          "name": "stderr",
          "output_type": "stream",
          "text": [
            "5143it [00:44, 115.05it/s]\n"
          ]
        },
        {
          "data": {
            "text/html": [
              "<div>\n",
              "<style scoped>\n",
              "    .dataframe tbody tr th:only-of-type {\n",
              "        vertical-align: middle;\n",
              "    }\n",
              "\n",
              "    .dataframe tbody tr th {\n",
              "        vertical-align: top;\n",
              "    }\n",
              "\n",
              "    .dataframe thead th {\n",
              "        text-align: right;\n",
              "    }\n",
              "</style>\n",
              "<table border=\"1\" class=\"dataframe\">\n",
              "  <thead>\n",
              "    <tr style=\"text-align: right;\">\n",
              "      <th></th>\n",
              "      <th>Name</th>\n",
              "      <th>Date</th>\n",
              "      <th>Views</th>\n",
              "      <th>Likes</th>\n",
              "      <th>Dislikes</th>\n",
              "      <th>Ratio</th>\n",
              "      <th>Category</th>\n",
              "    </tr>\n",
              "  </thead>\n",
              "  <tbody>\n",
              "    <tr>\n",
              "      <th>0</th>\n",
              "      <td>Joe Rogan Experience #1512 – Ben Shapiro</td>\n",
              "      <td>July 22, 2020</td>\n",
              "      <td>8,603,088 views</td>\n",
              "      <td>206,159 likes</td>\n",
              "      <td>21,102 dislikes</td>\n",
              "      <td>9.77 ratio</td>\n",
              "      <td>['Activists', 'Miscellaneous']</td>\n",
              "    </tr>\n",
              "    <tr>\n",
              "      <th>1</th>\n",
              "      <td>Joe Rogan Experience #1427 – Melissa Chen</td>\n",
              "      <td>February 14, 2020</td>\n",
              "      <td>3,558,623 views</td>\n",
              "      <td>51,294 likes</td>\n",
              "      <td>3,679 dislikes</td>\n",
              "      <td>13.94 ratio</td>\n",
              "      <td>['Activists']</td>\n",
              "    </tr>\n",
              "    <tr>\n",
              "      <th>2</th>\n",
              "      <td>Joe Rogan Experience #1419 – Daryl Davis</td>\n",
              "      <td>January 30, 2020</td>\n",
              "      <td>3,623,181 views</td>\n",
              "      <td>107,595 likes</td>\n",
              "      <td>3,045 dislikes</td>\n",
              "      <td>35.33 ratio</td>\n",
              "      <td>['Activists', 'Authors', 'Musicians']</td>\n",
              "    </tr>\n",
              "  </tbody>\n",
              "</table>\n",
              "</div>"
            ],
            "text/plain": [
              "                                        Name               Date  \\\n",
              "0   Joe Rogan Experience #1512 – Ben Shapiro      July 22, 2020   \n",
              "1  Joe Rogan Experience #1427 – Melissa Chen  February 14, 2020   \n",
              "2   Joe Rogan Experience #1419 – Daryl Davis   January 30, 2020   \n",
              "\n",
              "             Views          Likes         Dislikes        Ratio  \\\n",
              "0  8,603,088 views  206,159 likes  21,102 dislikes   9.77 ratio   \n",
              "1  3,558,623 views   51,294 likes   3,679 dislikes  13.94 ratio   \n",
              "2  3,623,181 views  107,595 likes   3,045 dislikes  35.33 ratio   \n",
              "\n",
              "                                Category  \n",
              "0         ['Activists', 'Miscellaneous']  \n",
              "1                          ['Activists']  \n",
              "2  ['Activists', 'Authors', 'Musicians']  "
            ]
          },
          "execution_count": 8,
          "metadata": {},
          "output_type": "execute_result"
        }
      ]
    },
    {
      "cell_type": "code",
      "metadata": {
        "id": "3f8c5246-213e-413f-95b6-2ba7a3819fbc",
        "outputId": "82998fb5-f312-4755-e014-71dfb072ab48"
      },
      "source": [
        "# Extra information is obtained from jrelibrary.com/episode-list/ and stored in jre_library_meta\n",
        "df_lib = pd.read_csv('data/jre_library_meta.csv',sep=';')\n",
        "df_lib.head(3)"
      ],
      "id": "3f8c5246-213e-413f-95b6-2ba7a3819fbc",
      "execution_count": null,
      "outputs": [
        {
          "data": {
            "text/html": [
              "<div>\n",
              "<style scoped>\n",
              "    .dataframe tbody tr th:only-of-type {\n",
              "        vertical-align: middle;\n",
              "    }\n",
              "\n",
              "    .dataframe tbody tr th {\n",
              "        vertical-align: top;\n",
              "    }\n",
              "\n",
              "    .dataframe thead th {\n",
              "        text-align: right;\n",
              "    }\n",
              "</style>\n",
              "<table border=\"1\" class=\"dataframe\">\n",
              "  <thead>\n",
              "    <tr style=\"text-align: right;\">\n",
              "      <th></th>\n",
              "      <th>Episode</th>\n",
              "      <th>Date</th>\n",
              "      <th>Duration</th>\n",
              "      <th>n_guests</th>\n",
              "      <th>Guests</th>\n",
              "      <th>Category</th>\n",
              "    </tr>\n",
              "  </thead>\n",
              "  <tbody>\n",
              "    <tr>\n",
              "      <th>0</th>\n",
              "      <td>1530</td>\n",
              "      <td>2020-08-31</td>\n",
              "      <td>05:31</td>\n",
              "      <td>1</td>\n",
              "      <td>['Duncan Trussell']</td>\n",
              "      <td>['Comedians']</td>\n",
              "    </tr>\n",
              "    <tr>\n",
              "      <th>1</th>\n",
              "      <td>1529</td>\n",
              "      <td>2020-08-21</td>\n",
              "      <td>03:18</td>\n",
              "      <td>2</td>\n",
              "      <td>['Whitney Cummings', 'Annie Lederman']</td>\n",
              "      <td>['Comedians']</td>\n",
              "    </tr>\n",
              "    <tr>\n",
              "      <th>2</th>\n",
              "      <td>1528</td>\n",
              "      <td>2020-08-20</td>\n",
              "      <td>02:42</td>\n",
              "      <td>1</td>\n",
              "      <td>['Nikki Glaser']</td>\n",
              "      <td>['Comedians']</td>\n",
              "    </tr>\n",
              "  </tbody>\n",
              "</table>\n",
              "</div>"
            ],
            "text/plain": [
              "   Episode        Date Duration  n_guests  \\\n",
              "0     1530  2020-08-31    05:31         1   \n",
              "1     1529  2020-08-21    03:18         2   \n",
              "2     1528  2020-08-20    02:42         1   \n",
              "\n",
              "                                   Guests       Category  \n",
              "0                     ['Duncan Trussell']  ['Comedians']  \n",
              "1  ['Whitney Cummings', 'Annie Lederman']  ['Comedians']  \n",
              "2                        ['Nikki Glaser']  ['Comedians']  "
            ]
          },
          "execution_count": 15,
          "metadata": {},
          "output_type": "execute_result"
        }
      ]
    },
    {
      "cell_type": "code",
      "metadata": {
        "id": "2f01c518-fab7-42f9-ac30-46452c814a55"
      },
      "source": [
        "# Añadir Episode, Date, Duration, n_guests, Guests\n",
        "\n",
        "# Obtain JRE episode number from name\n",
        "names_jre, eps_jre = [], []\n",
        "for name in df_meta['Name']:\n",
        "    if name.startswith('Joe Rogan Experience #'):\n",
        "        eps_jre.append(int(name.split('#')[1].split(' ')[0].split('-')[0]))\n",
        "        names_jre.append(name)\n",
        "        \n",
        "# Filter data so just JRE programs are stored\n",
        "df_meta_filt = df_meta[df_meta.Name.isin(names_jre)].copy()\n",
        "# New column added\n",
        "df_meta_filt['Episode'] = eps_jre\n",
        "\n",
        "# Merge both df sort rows by episonde number and reset index\n",
        "df_all = pd.merge(df_meta_filt, df_lib[['Episode','Duration','n_guests','Guests']], on='Episode')\n",
        "df_all = df_all.sort_values(by ='Episode')\n",
        "df_all = df_all.reset_index(drop=True)"
      ],
      "id": "2f01c518-fab7-42f9-ac30-46452c814a55",
      "execution_count": null,
      "outputs": []
    },
    {
      "cell_type": "code",
      "metadata": {
        "id": "cf92ec25-616d-4b32-9396-69c448f8665f",
        "outputId": "b49c10da-5d5a-435c-9dfe-5b2daf31f0f9"
      },
      "source": [
        "print(df_all.shape)\n",
        "df_all.head(3)"
      ],
      "id": "cf92ec25-616d-4b32-9396-69c448f8665f",
      "execution_count": null,
      "outputs": [
        {
          "name": "stdout",
          "output_type": "stream",
          "text": [
            "(1516, 11)\n"
          ]
        },
        {
          "data": {
            "text/html": [
              "<div>\n",
              "<style scoped>\n",
              "    .dataframe tbody tr th:only-of-type {\n",
              "        vertical-align: middle;\n",
              "    }\n",
              "\n",
              "    .dataframe tbody tr th {\n",
              "        vertical-align: top;\n",
              "    }\n",
              "\n",
              "    .dataframe thead th {\n",
              "        text-align: right;\n",
              "    }\n",
              "</style>\n",
              "<table border=\"1\" class=\"dataframe\">\n",
              "  <thead>\n",
              "    <tr style=\"text-align: right;\">\n",
              "      <th></th>\n",
              "      <th>Name</th>\n",
              "      <th>Date</th>\n",
              "      <th>Views</th>\n",
              "      <th>Likes</th>\n",
              "      <th>Dislikes</th>\n",
              "      <th>Ratio</th>\n",
              "      <th>Category</th>\n",
              "      <th>Episode</th>\n",
              "      <th>Duration</th>\n",
              "      <th>n_guests</th>\n",
              "      <th>Guests</th>\n",
              "    </tr>\n",
              "  </thead>\n",
              "  <tbody>\n",
              "    <tr>\n",
              "      <th>0</th>\n",
              "      <td>Joe Rogan Experience #1 – Brian Redban</td>\n",
              "      <td>January 17, 2013</td>\n",
              "      <td>696,642 views</td>\n",
              "      <td>6,855 likes</td>\n",
              "      <td>185 dislikes</td>\n",
              "      <td>37.05 ratio</td>\n",
              "      <td>['Comedians']</td>\n",
              "      <td>1</td>\n",
              "      <td>02:02</td>\n",
              "      <td>1</td>\n",
              "      <td>['Brian Redban']</td>\n",
              "    </tr>\n",
              "    <tr>\n",
              "      <th>1</th>\n",
              "      <td>Joe Rogan Experience #2 – Brian Redban</td>\n",
              "      <td>January 17, 2013</td>\n",
              "      <td>137,946 views</td>\n",
              "      <td>1,036 likes</td>\n",
              "      <td>71 dislikes</td>\n",
              "      <td>14.59 ratio</td>\n",
              "      <td>['Comedians']</td>\n",
              "      <td>2</td>\n",
              "      <td>02:32</td>\n",
              "      <td>1</td>\n",
              "      <td>['Brian Redban']</td>\n",
              "    </tr>\n",
              "    <tr>\n",
              "      <th>2</th>\n",
              "      <td>Joe Rogan Experience #3 – Ari Shaffir, Brian R...</td>\n",
              "      <td>January 17, 2013</td>\n",
              "      <td>135,861 views</td>\n",
              "      <td>1,027 likes</td>\n",
              "      <td>67 dislikes</td>\n",
              "      <td>15.33 ratio</td>\n",
              "      <td>['Comedians']</td>\n",
              "      <td>3</td>\n",
              "      <td>02:15</td>\n",
              "      <td>2</td>\n",
              "      <td>['Ari Shaffir', ' Brian Redban']</td>\n",
              "    </tr>\n",
              "  </tbody>\n",
              "</table>\n",
              "</div>"
            ],
            "text/plain": [
              "                                                Name              Date  \\\n",
              "0             Joe Rogan Experience #1 – Brian Redban  January 17, 2013   \n",
              "1             Joe Rogan Experience #2 – Brian Redban  January 17, 2013   \n",
              "2  Joe Rogan Experience #3 – Ari Shaffir, Brian R...  January 17, 2013   \n",
              "\n",
              "           Views        Likes      Dislikes        Ratio       Category  \\\n",
              "0  696,642 views  6,855 likes  185 dislikes  37.05 ratio  ['Comedians']   \n",
              "1  137,946 views  1,036 likes   71 dislikes  14.59 ratio  ['Comedians']   \n",
              "2  135,861 views  1,027 likes   67 dislikes  15.33 ratio  ['Comedians']   \n",
              "\n",
              "   Episode Duration  n_guests                            Guests  \n",
              "0        1    02:02         1                  ['Brian Redban']  \n",
              "1        2    02:32         1                  ['Brian Redban']  \n",
              "2        3    02:15         2  ['Ari Shaffir', ' Brian Redban']  "
            ]
          },
          "execution_count": 30,
          "metadata": {},
          "output_type": "execute_result"
        }
      ]
    },
    {
      "cell_type": "code",
      "metadata": {
        "id": "43c20693-0e12-4158-815f-32af3751aef6"
      },
      "source": [
        "# Save it\n",
        "df_all.to_csv('data/df_metadata.csv',sep=';')"
      ],
      "id": "43c20693-0e12-4158-815f-32af3751aef6",
      "execution_count": null,
      "outputs": []
    },
    {
      "cell_type": "markdown",
      "metadata": {
        "id": "3820a229-7682-4904-abbf-9b9a63a07e1d"
      },
      "source": [
        "# Format conversion (From MP3 to WAV files)\n",
        "The WAV format is an audio lossless format (high-quality uncompressed file) we can obtain audio time series from wav files"
      ],
      "id": "3820a229-7682-4904-abbf-9b9a63a07e1d"
    },
    {
      "cell_type": "code",
      "metadata": {
        "id": "d81f3e73-8a2b-4ab5-9780-3e96094bc93d",
        "outputId": "f944bac7-6354-4983-a8e6-03f0e1464ff7"
      },
      "source": [
        "mp3_path = 'data/podcasts/'\n",
        "wav_path = 'data/podcasts_wav/'\n",
        "files = os.listdir(mp3_path)\n",
        "for file in tqdm(files):\n",
        "    curl = f\"sox -v 0.98 {mp3_path+file} -b 16 {wav_path+file.split('.')[0]+'.wav'} channels 1 rate 16000\"\n",
        "    args = shlex.split(curl)\n",
        "    process = subprocess.Popen(args, shell=False, stdout=subprocess.PIPE, stderr=subprocess.PIPE)\n",
        "    process.communicate()"
      ],
      "id": "d81f3e73-8a2b-4ab5-9780-3e96094bc93d",
      "execution_count": null,
      "outputs": [
        {
          "name": "stderr",
          "output_type": "stream",
          "text": [
            "100%|██████████| 3/3 [03:14<00:00, 64.69s/it]\n"
          ]
        }
      ]
    }
  ]
}