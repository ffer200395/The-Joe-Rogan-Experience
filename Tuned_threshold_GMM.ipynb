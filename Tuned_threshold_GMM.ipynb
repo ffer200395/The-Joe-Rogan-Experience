{
  "nbformat": 4,
  "nbformat_minor": 0,
  "metadata": {
    "colab": {
      "name": "Tuned_threshold_GMM.ipynb",
      "provenance": [],
      "collapsed_sections": [],
      "include_colab_link": true
    },
    "kernelspec": {
      "display_name": "Python 3 (ipykernel)",
      "language": "python",
      "name": "python3"
    },
    "language_info": {
      "codemirror_mode": {
        "name": "ipython",
        "version": 3
      },
      "file_extension": ".py",
      "mimetype": "text/x-python",
      "name": "python",
      "nbconvert_exporter": "python",
      "pygments_lexer": "ipython3",
      "version": "3.8.11"
    }
  },
  "cells": [
    {
      "cell_type": "markdown",
      "metadata": {
        "id": "view-in-github",
        "colab_type": "text"
      },
      "source": [
        "<a href=\"https://colab.research.google.com/github/ffer200395/The-Joe-Rogan-Experience/blob/main/Tuned_threshold_GMM.ipynb\" target=\"_parent\"><img src=\"https://colab.research.google.com/assets/colab-badge.svg\" alt=\"Open In Colab\"/></a>"
      ]
    },
    {
      "cell_type": "code",
      "metadata": {
        "id": "vjqXmgAxvgAt"
      },
      "source": [
        "from sklearn.mixture import GaussianMixture\n",
        "from scipy.io.wavfile import read, write\n",
        "import numpy as np\n",
        "import pandas as pd\n",
        "import scipy.special\n",
        "import math\n",
        "import os\n",
        "from tqdm import tqdm"
      ],
      "execution_count": 1,
      "outputs": []
    },
    {
      "cell_type": "code",
      "metadata": {
        "id": "QwOyPZ3iIlGt"
      },
      "source": [
        "def get_signal(file_name):\n",
        "    # Obtain raw signal from audio\n",
        "    _, signal = read(file_name)\n",
        "    # Convert signal into absolute values to avoid zero mean\n",
        "    s_abs = np.abs(signal)\n",
        "    if len(s_abs)%16!=0:\n",
        "        cut = len(s_abs)-len(s_abs)%16\n",
        "        s_abs = s_abs[:cut]\n",
        "    # We will work with miliseconds, mean of 16 samples = 1ms\n",
        "    s_abs = np.mean(s_abs.reshape(-1, 16), axis=1)\n",
        "    # Convert into a logarithmic scale\n",
        "    s_abs[s_abs == 0] = 0.1\n",
        "    s_log = np.log10(s_abs)\n",
        "    return s_abs, s_log\n",
        "    \n",
        "def get_gmm_result(s_log):\n",
        "    # Fit a GMM and apply it to he signal\n",
        "    gm = GaussianMixture(n_components=2).fit(s_log.reshape(-1, 1))\n",
        "    yhat = gm.predict(s_log.reshape(-1, 1))\n",
        "    # Get both means and sigma assuming binomial distribution\n",
        "    mu_1 = np.mean(s_log[np.where(yhat==0)])\n",
        "    mu_2 = np.mean(s_log[np.where(yhat==1)])\n",
        "    if mu_1>mu_2:\n",
        "        threshold = min(s_log[np.where(yhat==0)])\n",
        "    else:\n",
        "        threshold = min(s_log[np.where(yhat==1)])\n",
        "    return threshold\n",
        "\n",
        "def consecutive(data, stepsize=1):\n",
        "    return np.split(data, np.where(np.diff(data) != stepsize)[0]+1)\n",
        "\n",
        "def hms(total_ms):\n",
        "    # Convert total miliseconds in 00:00:00:000 format\n",
        "    ms = ((total_ms % 1000))\n",
        "    s = int((total_ms / 1000) % 60)\n",
        "    m = int((total_ms / (1000 * 60)) % 60)\n",
        "    h = int((total_ms / (1000 * 60 * 60)) % 24)\n",
        "    return '{:02d}:{:02d}:{:02d}:{:03d}'.format(h,m,s,ms)\n",
        "\n",
        "def get_start_end_time(tup):\n",
        "    return (hms(tup[0]),hms(tup[1]))\n",
        "\n",
        "def get_noises_intervals(s_log, s_abs, threshold):\n",
        "    # From which value it is considered \"no silence\"\n",
        "    threshold = 10**threshold\n",
        "    # Find all segments over threshold\n",
        "    idx_noise = np.where(s_abs>threshold)[0]\n",
        "    # Aggregate segments\n",
        "    noise_intervals = consecutive(idx_noise)\n",
        "    noise_start_end = [(x[0],x[0]+1) if len(x)==1 else (x[0],x[-1]) for x in noise_intervals]\n",
        "    return noise_start_end\n",
        "    \n",
        "def get_hist(signal, threshold, name):\n",
        "    normal_t = 10**threshold\n",
        "    plt.hist(signal, bins = np.arange(0,5,0.05),color='blue',alpha=0.7, rwidth=0.85) \n",
        "    plt.title(f\"Histogram for {name} (log scale)\") \n",
        "    plt.axvline(threshold, color='red', linewidth=2)\n",
        "    min_ylim, max_ylim = plt.ylim()\n",
        "    plt.text(threshold*0.55, max_ylim*0.95, f'Cut {round(threshold,2)} ({round(normal_t,2)})')\n",
        "    plt.savefig(f'histograms/histogram_{name}.jpg')\n",
        "    plt.clf()\n",
        "\n",
        "def run_all(path_audio):\n",
        "    ls_thresholds = []\n",
        "    # List of files to be processed\n",
        "    files = os.listdir(path_audio)\n",
        "    for file in tqdm(files):\n",
        "        file_name = path_audio+file\n",
        "        try:\n",
        "            # Read .wav file\n",
        "            s_abs, s_log = get_signal(file_name)\n",
        "            # Apply Gaussian Mixture Model assuming 2 distributions\n",
        "            threshold = get_gmm_result(s_log)\n",
        "            # Get noise intervals\n",
        "            noise_start_end = get_noises_intervals(s_log, s_abs, threshold)\n",
        "            # Convert time format\n",
        "            map_object = map(get_start_end_time, noise_start_end)\n",
        "            new_list = list(map_object)\n",
        "            # Create and save a dataframe of noise intervals for each episode\n",
        "            df = pd.DataFrame(new_list, columns=['start', 'end'])\n",
        "            df.to_csv('noises/'+file.split('.')[0]+'.csv')\n",
        "            # Create a histogram\n",
        "            get_hist(s_log, threshold, file.split('.')[0])\n",
        "            # Keep record of thresholds\n",
        "            ls_thresholds.append((int(file.split('.')[0][3:]), 10**threshold))\n",
        "            print(len(new_list),10**threshold)\n",
        "        except Exception as e:\n",
        "            print(file, e)\n",
        "    df_treshold = pd.DataFrame(ls_thresholds, columns=['Episode','Threshold'])\n",
        "    df_treshold.to_csv('episode_threshold.csv',index=False)"
      ],
      "execution_count": 2,
      "outputs": []
    },
    {
      "cell_type": "code",
      "metadata": {
        "id": "g7jg2W7avpIO"
      },
      "source": [
        "# Audio path\n",
        "path_audio = 'data/podcasts_wav/'\n",
        "run_all(path_audio)"
      ],
      "execution_count": null,
      "outputs": []
    }
  ]
}